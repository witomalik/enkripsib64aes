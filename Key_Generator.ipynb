{
 "cells": [
  {
   "cell_type": "code",
   "execution_count": 1,
   "metadata": {},
   "outputs": [],
   "source": [
    "import os\n",
    "from Crypto.Random import get_random_bytes\n"
   ]
  },
  {
   "cell_type": "code",
   "execution_count": 2,
   "metadata": {},
   "outputs": [
    {
     "name": "stdout",
     "output_type": "stream",
     "text": [
      "b'(\\x16\\xe3\\x1d\\x07ph\\xa4\\xfcC\\x00\\x82M\\xb6Y\\xea'\n"
     ]
    }
   ],
   "source": [
    "path = 'F:\\\\skin-cancer-mnist-ham10000\\\\gambardokter'\n",
    "the_key = get_random_bytes(16)\n",
    "output_file = open(os.path.join(path, \"key\"), 'wb') \n",
    "output_file.write(the_key)\n",
    "output_file.close()\n",
    "print (the_key)"
   ]
  },
  {
   "cell_type": "code",
   "execution_count": null,
   "metadata": {},
   "outputs": [],
   "source": []
  }
 ],
 "metadata": {
  "kernelspec": {
   "display_name": "Python 3",
   "language": "python",
   "name": "python3"
  },
  "language_info": {
   "codemirror_mode": {
    "name": "ipython",
    "version": 3
   },
   "file_extension": ".py",
   "mimetype": "text/x-python",
   "name": "python",
   "nbconvert_exporter": "python",
   "pygments_lexer": "ipython3",
   "version": "3.7.4"
  }
 },
 "nbformat": 4,
 "nbformat_minor": 2
}
